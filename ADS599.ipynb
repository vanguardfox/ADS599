{
 "cells": [
  {
   "cell_type": "markdown",
   "id": "6c73cd94-f843-4ad6-8997-457de2b0caa8",
   "metadata": {},
   "source": [
    "# Gabriella Rivera\n",
    "# John Vincent Deniega"
   ]
  },
  {
   "cell_type": "code",
   "execution_count": 1,
   "id": "c8b6559f-a638-476e-938d-b7f7e8e383e5",
   "metadata": {},
   "outputs": [],
   "source": [
    "import FlowCal\n",
    "import flowio\n",
    "import matplotlib.pyplot as plt\n",
    "import numpy as np\n",
    "import pandas as pd\n",
    "import seaborn as sns\n",
    "import os"
   ]
  },
  {
   "cell_type": "markdown",
   "id": "5aa46aba-2225-4e52-bb2a-6c38695fef30",
   "metadata": {},
   "source": [
    "Run the below cell as code instead of markdown in order to rename files removing white space."
   ]
  },
  {
   "cell_type": "markdown",
   "id": "ec68dc57-52e3-4caa-958e-aa8e105e7495",
   "metadata": {},
   "source": [
    "import os\n",
    "\n",
    "### Define relative path to FCS folder via user's home directory\n",
    "home_dir = os.path.expanduser(\"~\")\n",
    "folder_path = os.path.join(home_dir, \"Desktop\", \"usd_ADS\", \"ADS599\", \"Notebook\", \"FlowRepository_FR-FCM-Z32U_files\")\n",
    "\n",
    "### Check if the folder exists\n",
    "if not os.path.exists(folder_path):\n",
    "    print(f\"Directory not found: {folder_path}\")\n",
    "else:\n",
    "    # Iterate through all files in the given folder\n",
    "    for filename in os.listdir(folder_path):\n",
    "        # Join path and individual filename\n",
    "        old_file_path = os.path.join(folder_path, filename)\n",
    "        \n",
    "        # Check if it is a file\n",
    "        if os.path.isfile(old_file_path):\n",
    "            # Replace spaces with underscores to avoid coding errors\n",
    "            new_filename = filename.replace(\" \", \"_\")\n",
    "            new_file_path = os.path.join(folder_path, new_filename)\n",
    "            \n",
    "            # Rename the file with underscores\n",
    "            os.rename(old_file_path, new_file_path)\n",
    "            print(f\"Renamed '{filename}' to '{new_filename}'\")"
   ]
  },
  {
   "cell_type": "code",
   "execution_count": 2,
   "id": "618b4749-3d60-4ae4-bd1e-a5ef6b07a781",
   "metadata": {},
   "outputs": [],
   "source": [
    "# Define the paths dynamically\n",
    "home_dir = os.path.expanduser(\"~\")\n",
    "# Change the words after home_dir to reflect your local location/directories for the FCS files\n",
    "fcs_folder = os.path.join(home_dir, \"Desktop\", \"usd_ADS\", \"ADS599\", \"Notebook\", \"FlowRepository_FR-FCM-Z32U_files\")\n",
    "fcs_file = \"Comp_CADM1_FITC_D2_D02_012.fcs\" # Test instance of an FCS file in the folder\n",
    "\n",
    "# Combine for full path\n",
    "file_path = os.path.join(fcs_folder, fcs_file)\n",
    "\n",
    "# Load the FCS data into object and print\n",
    "s = FlowCal.io.FCSData(file_path)"
   ]
  },
  {
   "cell_type": "code",
   "execution_count": 19,
   "id": "844e71be-45de-4d56-b84b-240f15ebd7bd",
   "metadata": {},
   "outputs": [
    {
     "data": {
      "text/plain": [
       "FCSData([[ 3.15035430e+04,  3.34625391e+04,  3.12494995e+03,\n",
       "           1.09415869e+04,  5.45711060e+02,  2.38198929e+02,\n",
       "           1.09296906e+02,  1.25232630e+01,  1.79159012e+02,\n",
       "           4.64346008e+02,  2.26655212e+02,  1.51446243e+02,\n",
       "           2.48909111e+01,  1.28595457e+01, -1.72899401e+00,\n",
       "          -9.25848389e+00,  2.07025711e+02,  5.62349243e+01,\n",
       "           2.54767014e+02,  2.31491684e+02,  1.27558794e+01,\n",
       "          -2.48829689e+01,  6.84096479e+00,  1.88843746e+01,\n",
       "          -7.46806812e+00, -6.02076769e+00,  1.99886200e+02,\n",
       "           4.30685654e+01,  5.52062273e-01,  4.34756804e+00,\n",
       "           3.38142633e+00,  5.87200047e-03],\n",
       "         [ 3.56520820e+04,  3.77054961e+04,  3.64067236e+03,\n",
       "           1.28165576e+04,  6.05351074e+02,  2.81205841e+02,\n",
       "           1.31921799e+02,  2.32359333e+01,  2.76197998e+02,\n",
       "           6.11943604e+02,  3.08346252e+02,  1.50466171e+02,\n",
       "           4.64081001e+01,  2.37029171e+00,  3.00475979e+01,\n",
       "           9.95562840e+00,  1.60802338e+02,  5.52369080e+01,\n",
       "           2.71466553e+02,  2.49144867e+02, -2.21330976e+00,\n",
       "          -1.75723381e+01, -7.64597940e+00,  1.12563934e+01,\n",
       "           2.18372822e+01,  2.78663692e+01,  1.90985153e+02,\n",
       "           7.79935226e+01, -3.34502792e+01, -6.36529541e+00,\n",
       "          -1.17563114e+01,  7.40800053e-03],\n",
       "         [ 3.20353730e+04,  3.39667734e+04,  3.03755054e+03,\n",
       "           5.83580957e+03,  3.13324951e+02,  1.28439682e+02,\n",
       "           4.30091743e+01,  2.67782450e+00,  2.10775986e+02,\n",
       "           3.07339478e+02,  2.22903198e+02,  1.67160233e+02,\n",
       "           4.78901176e+01,  3.91101432e+00,  2.32906036e+01,\n",
       "           5.99838867e+01,  2.56959656e+02,  9.40412521e+01,\n",
       "           2.06058914e+02,  1.75946426e+02,  5.00330696e+01,\n",
       "           1.76733189e+01,  3.55629616e+01,  1.76540184e+01,\n",
       "           1.29172792e+01,  8.98040771e+00,  1.36161392e+02,\n",
       "           5.74276428e+01, -4.67654371e+00, -1.39646797e+01,\n",
       "          -8.05404758e+00,  3.65840010e-02]], dtype='>f4')"
      ]
     },
     "execution_count": 19,
     "metadata": {},
     "output_type": "execute_result"
    }
   ],
   "source": [
    "s[:3]"
   ]
  },
  {
   "cell_type": "code",
   "execution_count": 18,
   "id": "15103e0d-d80c-4b6e-9c21-d8a698f59b5d",
   "metadata": {},
   "outputs": [
    {
     "name": "stdout",
     "output_type": "stream",
     "text": [
      "Shape:  (20000, 32) \n",
      "\n",
      "Channels:  ('FSC-A', 'FSC-H', 'SSC-A', 'B515-A', 'B610-A', 'B660-A', 'B710-A', 'B780-A', 'V450-A', 'V510-A', 'V570-A', 'V605-A', 'V655-A', 'V710-A', 'V750-A', 'V785-A', 'U390-A', 'U450-A', 'U500-A', 'U570-A', 'U660-A', 'U740-A', 'U785-A', 'R670-A', 'R730-A', 'R780-A', 'G575-A', 'G610-A', 'G660-A', 'G710-A', 'G780-A', 'Time')\n",
      "\n",
      "First 10 events in FITC-A channel:\n",
      "31503.54, 35652.08, 32035.37, 33674.53, 32198.94, 36507.20, 33340.48, 31283.46, 33443.36, 34430.05\n",
      "\n",
      "FSC-A Mean: 33746.41\n",
      "FSC-A Std Dev: 6609.38\n"
     ]
    }
   ],
   "source": [
    "print(\"Shape: \", s.shape, \"\\n\")\n",
    "print(\"Channels: \", s.channels)\n",
    "\n",
    "# Because S is a FlowCal.io.FCSData object, convert for easier data handling\n",
    "s_np = np.array(s).astype('<f4') # Convert to little-endian NumPy array\n",
    "fsc_a_data = s_np[:, 0] # Extract FSC-A data as it is in the 0th place\n",
    "\n",
    "print(\"\\nFirst 10 events in FITC-A channel:\")\n",
    "print(\", \".join([f'{x:.2f}' for x in fsc_a_data[:10]])) # Truncate to 2 decimal places\n",
    "\n",
    "mean_fsc_a = np.mean(fsc_a_data)\n",
    "std_fsc_a = np.std(fsc_a_data)\n",
    "print(f'\\nFSC-A Mean: {mean_fsc_a:.2f}\\nFSC-A Std Dev: {std_fsc_a:.2f}')"
   ]
  },
  {
   "cell_type": "code",
   "execution_count": 6,
   "id": "4b182fd8-2a5d-4eea-89cd-5c1fbc2051a5",
   "metadata": {},
   "outputs": [
    {
     "data": {
      "image/png": "[encoded data removed]",
      "text/plain": [
       "<Figure size 640x480 with 1 Axes>"
      ]
     },
     "metadata": {},
     "output_type": "display_data"
    }
   ],
   "source": [
    "# Extract data for the specific channel\n",
    "channel_data = s[:, 'FSC-A']\n",
    "\n",
    "# Plot histogram using matplotlib\n",
    "plt.hist(channel_data, bins=50)\n",
    "plt.xlabel('FSC-A')\n",
    "plt.ylabel('Count')\n",
    "plt.title('Histogram of FSC-A Channel')\n",
    "plt.show()\n",
    "\n"
   ]
  },
  {
   "cell_type": "code",
   "execution_count": null,
   "id": "b317641e-3065-4581-85f2-e95ebd8ce535",
   "metadata": {},
   "outputs": [],
   "source": []
  }
 ],
 "metadata": {
  "kernelspec": {
   "display_name": "Python 3 (ipykernel)",
   "language": "python",
   "name": "python3"
  },
  "language_info": {
   "codemirror_mode": {
    "name": "ipython",
    "version": 3
   },
   "file_extension": ".py",
   "mimetype": "text/x-python",
   "name": "python",
   "nbconvert_exporter": "python",
   "pygments_lexer": "ipython3",
   "version": "3.11.5"
  }
 },
 "nbformat": 4,
 "nbformat_minor": 5
}
