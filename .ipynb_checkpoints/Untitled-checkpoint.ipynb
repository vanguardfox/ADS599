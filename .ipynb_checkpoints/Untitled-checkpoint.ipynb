{
 "cells": [
  {
   "cell_type": "markdown",
   "id": "d0b9ba50-ef9c-4187-b421-cf2a822d3200",
   "metadata": {},
   "source": [
    "# Project Title: Peripheral Blood Mononuclear Cell (PBMC) Population Clustering\n",
    "This project explores and clusters PBMCs based on flow cytometry data using machine learning techniques.\n",
    "\n",
    "## Project Status: Active\n",
    "\n",
    "## Installation\n",
    "To use this project, first clone the repository to your device:\n",
    "```\n",
    "git init\n",
    "git clone https://github.com/vanguardfox/ADS599\n",
    "```\n",
    "\n",
    "After cloning, navigate to the project folder and install the required packages by running:\n",
    "pip install -r requirements.txt\n",
    "\n",
    "## Running the Project\n",
    "1. Ensure all data files are in the expected directories.\n",
    "2. Execute the script | notebook | application to process the data\n",
    "3. TBD\n",
    "\n",
    "# Background\n",
    "Flow cytometry is a biochemical analytical process that involves identifying and classifying populations of PBMCs - such as lymphocytes, moncytes, etc. - using chemical substrates, imaging, and highly-capital intensive medical research equipment. Clustering aims to simplify to a fundamentally objective level the classification accuracy of a given population's cellular type to further immunological and clinical diagnostic purposes. By exploring methods like K-means, Agglomerative, and Gaussian Mixture Modeling, the dataset containing metrics on front and side scatter areas of cell scans, fluorescence on markers, and other dimensions can potentially lead to automatic gating and bring forth insights on cell population characteristics.\n",
    "\n",
    "# Project Objective\n",
    "To enhance and accelerate drug discovery process, facilitate smoother transition from clinical trials to patient care, and leverage artificial intelligence to optimize outcomes in pharmaceutical development with increased analytical throughput and accuracy.\n",
    "\n",
    "# Contributors\n",
    "* Gabriella Rivera\n",
    "* John Vincent Deniega\n",
    "\n",
    "# Technologies\n",
    "* Python\n",
    "* scikit-learn\n",
    "* Matplotlib\n",
    "* Pandas\n",
    "\n",
    "# Dataset:\n",
    "FlowRepository. (2020). FlowRepository ID FR-FCM-Z32U. Retrieved from http://flowrepository.org/experiments/3166/download_ziped_files\n",
    "\n",
    "# Project Description\n",
    "This project uses flow cytometry data on PBMCs consisting of 1.5 gigabytes of Flow Cytometry Standard files from FlowRepository. There are about ten million records across 32 columns (channels in FCS standard) containing numerical floating data to include measurements on scans from forward scatter, side scatter, and fluorescence scans. The project aims to address the following questions:\n",
    "* Can clustering methods or other unsupervised techniques accurately separate PBMC populations into their respective cellular groups?\n",
    "* How do clustering or classification results vary with that of a human analyst?\n",
    "\n",
    "Current challenges include whether clustering algorithms will result in biochemically significant clusters, applying algorithms that will best describe these biochemical categories, and being constrained to no-cost resources such as personal Mac Air M1 devices and Google Colaboratory computing and memory.\n",
    "\n",
    "# License\n",
    "This project is licensed under the Apache License 2.0. See the LICENSE file for details."
   ]
  }
 ],
 "metadata": {
  "kernelspec": {
   "display_name": "Python 3 (ipykernel)",
   "language": "python",
   "name": "python3"
  },
  "language_info": {
   "codemirror_mode": {
    "name": "ipython",
    "version": 3
   },
   "file_extension": ".py",
   "mimetype": "text/x-python",
   "name": "python",
   "nbconvert_exporter": "python",
   "pygments_lexer": "ipython3",
   "version": "3.11.5"
  }
 },
 "nbformat": 4,
 "nbformat_minor": 5
}
